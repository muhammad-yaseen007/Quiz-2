{
  "nbformat": 4,
  "nbformat_minor": 0,
  "metadata": {
    "colab": {
      "provenance": [],
      "include_colab_link": true
    },
    "kernelspec": {
      "name": "python3",
      "display_name": "Python 3"
    },
    "language_info": {
      "name": "python"
    }
  },
  "cells": [
    {
      "cell_type": "markdown",
      "metadata": {
        "id": "view-in-github",
        "colab_type": "text"
      },
      "source": [
        "<a href=\"https://colab.research.google.com/github/muhammad-yaseen007/Quiz-2/blob/main/Lab_6_EDA%2BSklearn_Pipeline.ipynb\" target=\"_parent\"><img src=\"https://colab.research.google.com/assets/colab-badge.svg\" alt=\"Open In Colab\"/></a>"
      ]
    },
    {
      "cell_type": "markdown",
      "source": [
        "##Data Preparation\n",
        "\n",
        "*   Feature Scaling\n",
        "*   Feature Binning\n",
        "*   Column Transformer\n",
        "*   Function Transfoerm\n",
        "*   Sklearn Pipeline"
      ],
      "metadata": {
        "id": "8zRn0spUs3kC"
      }
    },
    {
      "cell_type": "code",
      "source": [
        "import pandas as pd\n",
        "import seaborn as sns\n",
        "import matplotlib.pyplot as plt\n",
        "from sklearn.preprocessing import MinMaxScaler\n",
        "from sklearn.compose import ColumnTransformer\n",
        "from sklearn.impute import SimpleImputer\n",
        "from sklearn.preprocessing import FunctionTransformer, OneHotEncoder\n",
        "from sklearn.pipeline import Pipeline"
      ],
      "metadata": {
        "id": "169juKyDxxGL"
      },
      "execution_count": 1,
      "outputs": []
    },
    {
      "cell_type": "code",
      "source": [
        "titanic = pd.read_csv('titanic.csv')"
      ],
      "metadata": {
        "id": "rRYfR86ixzRK"
      },
      "execution_count": 2,
      "outputs": []
    },
    {
      "cell_type": "markdown",
      "source": [
        "**Feature Scaling**"
      ],
      "metadata": {
        "id": "TkgbJAGvxhI0"
      }
    },
    {
      "cell_type": "code",
      "source": [
        "#Select features for scaling\n",
        "features_to_scale = ['Age', 'Fare']"
      ],
      "metadata": {
        "id": "wIV_UTE5viUT"
      },
      "execution_count": 3,
      "outputs": []
    },
    {
      "cell_type": "code",
      "source": [
        "# Handle missing values\n",
        "# Fill missing values in 'Age' and 'Fare' with the median\n",
        "titanic['Age'] = titanic['Age'].fillna(titanic['Age'].median())\n",
        "titanic['Fare'] = titanic['Fare'].fillna(titanic['Fare'].median())\n",
        "#titanic['Age'].fillna(titanic['Age'].median(), inplace=True)\n",
        "#titanic['Fare'].fillna(titanic['Fare'].median(), inplace=True)"
      ],
      "metadata": {
        "id": "wqeC7B688Set"
      },
      "execution_count": 4,
      "outputs": []
    },
    {
      "cell_type": "code",
      "source": [
        "#Apply MinMaxScaler to the selected features\n",
        "scaler = MinMaxScaler()\n",
        "scaled_features = scaler.fit_transform(titanic[features_to_scale])\n",
        "#print(scaled_features)\n",
        "print(type(scaled_features))"
      ],
      "metadata": {
        "colab": {
          "base_uri": "https://localhost:8080/"
        },
        "id": "IK1TlKK18YSE",
        "outputId": "41207aaa-f17b-4532-f111-023eab3a6249"
      },
      "execution_count": 5,
      "outputs": [
        {
          "output_type": "stream",
          "name": "stdout",
          "text": [
            "<class 'numpy.ndarray'>\n"
          ]
        }
      ]
    },
    {
      "cell_type": "code",
      "source": [
        "\n",
        "# Convert scaled features into a DataFrame\n",
        "scaled_df = pd.DataFrame(scaled_features, columns=features_to_scale)\n",
        "print(scaled_df)\n"
      ],
      "metadata": {
        "colab": {
          "base_uri": "https://localhost:8080/"
        },
        "id": "nr0LjivD8ap8",
        "outputId": "38a88eda-9c8c-459d-a189-c271ea8e384d"
      },
      "execution_count": 6,
      "outputs": [
        {
          "output_type": "stream",
          "name": "stdout",
          "text": [
            "          Age      Fare\n",
            "0    0.271174  0.014151\n",
            "1    0.472229  0.139136\n",
            "2    0.321438  0.015469\n",
            "3    0.434531  0.103644\n",
            "4    0.434531  0.015713\n",
            "..        ...       ...\n",
            "886  0.334004  0.025374\n",
            "887  0.233476  0.058556\n",
            "888  0.346569  0.045771\n",
            "889  0.321438  0.058556\n",
            "890  0.396833  0.015127\n",
            "\n",
            "[891 rows x 2 columns]\n"
          ]
        }
      ]
    },
    {
      "cell_type": "code",
      "source": [
        "#Concatenate the scaled features back into the original DataFrame\n",
        "print(titanic[features_to_scale])\n",
        "titanic[features_to_scale] = scaled_df\n",
        "print(titanic[features_to_scale])\n",
        "print(type(titanic[features_to_scale]))"
      ],
      "metadata": {
        "colab": {
          "base_uri": "https://localhost:8080/"
        },
        "id": "1qf-dwrG8cV8",
        "outputId": "c31d3474-8087-4a46-dd4b-eae98cf2db5f"
      },
      "execution_count": 7,
      "outputs": [
        {
          "output_type": "stream",
          "name": "stdout",
          "text": [
            "      Age     Fare\n",
            "0    22.0   7.2500\n",
            "1    38.0  71.2833\n",
            "2    26.0   7.9250\n",
            "3    35.0  53.1000\n",
            "4    35.0   8.0500\n",
            "..    ...      ...\n",
            "886  27.0  13.0000\n",
            "887  19.0  30.0000\n",
            "888  28.0  23.4500\n",
            "889  26.0  30.0000\n",
            "890  32.0   7.7500\n",
            "\n",
            "[891 rows x 2 columns]\n",
            "          Age      Fare\n",
            "0    0.271174  0.014151\n",
            "1    0.472229  0.139136\n",
            "2    0.321438  0.015469\n",
            "3    0.434531  0.103644\n",
            "4    0.434531  0.015713\n",
            "..        ...       ...\n",
            "886  0.334004  0.025374\n",
            "887  0.233476  0.058556\n",
            "888  0.346569  0.045771\n",
            "889  0.321438  0.058556\n",
            "890  0.396833  0.015127\n",
            "\n",
            "[891 rows x 2 columns]\n",
            "<class 'pandas.core.frame.DataFrame'>\n"
          ]
        }
      ]
    },
    {
      "cell_type": "code",
      "source": [
        "# Step 6: Display the results\n",
        "print(\"After MinMax Scaling:\")\n",
        "print(titanic.shape)\n",
        "print(titanic.head())"
      ],
      "metadata": {
        "colab": {
          "base_uri": "https://localhost:8080/"
        },
        "id": "Ueku91xt8dk0",
        "outputId": "b624a389-a984-497f-c014-30b122f871aa"
      },
      "execution_count": 8,
      "outputs": [
        {
          "output_type": "stream",
          "name": "stdout",
          "text": [
            "After MinMax Scaling:\n",
            "(891, 12)\n",
            "   PassengerId  Survived  Pclass  \\\n",
            "0            1         0       3   \n",
            "1            2         1       1   \n",
            "2            3         1       3   \n",
            "3            4         1       1   \n",
            "4            5         0       3   \n",
            "\n",
            "                                                Name     Sex       Age  SibSp  \\\n",
            "0                            Braund, Mr. Owen Harris    male  0.271174      1   \n",
            "1  Cumings, Mrs. John Bradley (Florence Briggs Th...  female  0.472229      1   \n",
            "2                             Heikkinen, Miss. Laina  female  0.321438      0   \n",
            "3       Futrelle, Mrs. Jacques Heath (Lily May Peel)  female  0.434531      1   \n",
            "4                           Allen, Mr. William Henry    male  0.434531      0   \n",
            "\n",
            "   Parch            Ticket      Fare Cabin Embarked  \n",
            "0      0         A/5 21171  0.014151   NaN        S  \n",
            "1      0          PC 17599  0.139136   C85        C  \n",
            "2      0  STON/O2. 3101282  0.015469   NaN        S  \n",
            "3      0            113803  0.103644  C123        S  \n",
            "4      0            373450  0.015713   NaN        S  \n"
          ]
        }
      ]
    },
    {
      "cell_type": "markdown",
      "source": [
        "# **Feature Binning**"
      ],
      "metadata": {
        "id": "OVTtdK5kxleC"
      }
    },
    {
      "cell_type": "code",
      "source": [
        "# Extract Title from Name\n",
        "titanic['Title'] = titanic['Name'].str.extract(r' ([A-Za-z]+)\\.', expand=False)\n",
        "print(titanic['Title'])"
      ],
      "metadata": {
        "id": "c95PBrr-v6Ab",
        "colab": {
          "base_uri": "https://localhost:8080/"
        },
        "outputId": "6ffca99b-39a3-450d-ea77-ad51388de27b"
      },
      "execution_count": 9,
      "outputs": [
        {
          "output_type": "stream",
          "name": "stdout",
          "text": [
            "0        Mr\n",
            "1       Mrs\n",
            "2      Miss\n",
            "3       Mrs\n",
            "4        Mr\n",
            "       ... \n",
            "886     Rev\n",
            "887    Miss\n",
            "888    Miss\n",
            "889      Mr\n",
            "890      Mr\n",
            "Name: Title, Length: 891, dtype: object\n"
          ]
        }
      ]
    },
    {
      "cell_type": "code",
      "source": [
        "# Define title mapping dictionary\n",
        "title_mapping = {\n",
        "    'Mr': 'Mr', 'Mrs': 'Mrs', 'Miss': 'Miss', 'Master': 'Master',\n",
        "    'Capt': 'Officer', 'Col': 'Officer', 'Major': 'Officer', 'Dr': 'Officer', 'Rev': 'Officer',\n",
        "    'Countess': 'Royalty', 'Sir': 'Royalty', 'Lady': 'Royalty', 'Jonkheer': 'Royalty', 'Don': 'Royalty',\n",
        "    'Mlle': 'Miss', 'Ms': 'Miss', 'Mme': 'Mrs'\n",
        "}\n",
        "print(type(titanic['Title']))\n",
        "# Map extracted titles to broader categories & handle unknown titles\n",
        "titanic['Title_Group'] = titanic['Title'].map(title_mapping)\n",
        "print(titanic)\n",
        "#filtered_titanic = titanic[titanic['Title_Group'] == 'Other'].tail(100)\n",
        "#print(filtered_titanic)"
      ],
      "metadata": {
        "colab": {
          "base_uri": "https://localhost:8080/"
        },
        "id": "jeLKEuMA8uKs",
        "outputId": "3b3a89b6-28d6-4cfa-97f6-1c72ab37c4d2"
      },
      "execution_count": 10,
      "outputs": [
        {
          "output_type": "stream",
          "name": "stdout",
          "text": [
            "<class 'pandas.core.series.Series'>\n",
            "     PassengerId  Survived  Pclass  \\\n",
            "0              1         0       3   \n",
            "1              2         1       1   \n",
            "2              3         1       3   \n",
            "3              4         1       1   \n",
            "4              5         0       3   \n",
            "..           ...       ...     ...   \n",
            "886          887         0       2   \n",
            "887          888         1       1   \n",
            "888          889         0       3   \n",
            "889          890         1       1   \n",
            "890          891         0       3   \n",
            "\n",
            "                                                  Name     Sex       Age  \\\n",
            "0                              Braund, Mr. Owen Harris    male  0.271174   \n",
            "1    Cumings, Mrs. John Bradley (Florence Briggs Th...  female  0.472229   \n",
            "2                               Heikkinen, Miss. Laina  female  0.321438   \n",
            "3         Futrelle, Mrs. Jacques Heath (Lily May Peel)  female  0.434531   \n",
            "4                             Allen, Mr. William Henry    male  0.434531   \n",
            "..                                                 ...     ...       ...   \n",
            "886                              Montvila, Rev. Juozas    male  0.334004   \n",
            "887                       Graham, Miss. Margaret Edith  female  0.233476   \n",
            "888           Johnston, Miss. Catherine Helen \"Carrie\"  female  0.346569   \n",
            "889                              Behr, Mr. Karl Howell    male  0.321438   \n",
            "890                                Dooley, Mr. Patrick    male  0.396833   \n",
            "\n",
            "     SibSp  Parch            Ticket      Fare Cabin Embarked Title Title_Group  \n",
            "0        1      0         A/5 21171  0.014151   NaN        S    Mr          Mr  \n",
            "1        1      0          PC 17599  0.139136   C85        C   Mrs         Mrs  \n",
            "2        0      0  STON/O2. 3101282  0.015469   NaN        S  Miss        Miss  \n",
            "3        1      0            113803  0.103644  C123        S   Mrs         Mrs  \n",
            "4        0      0            373450  0.015713   NaN        S    Mr          Mr  \n",
            "..     ...    ...               ...       ...   ...      ...   ...         ...  \n",
            "886      0      0            211536  0.025374   NaN        S   Rev     Officer  \n",
            "887      0      0            112053  0.058556   B42        S  Miss        Miss  \n",
            "888      1      2        W./C. 6607  0.045771   NaN        S  Miss        Miss  \n",
            "889      0      0            111369  0.058556  C148        C    Mr          Mr  \n",
            "890      0      0            370376  0.015127   NaN        Q    Mr          Mr  \n",
            "\n",
            "[891 rows x 14 columns]\n"
          ]
        }
      ]
    },
    {
      "cell_type": "code",
      "source": [
        "# Drop the original 'Title' column (optional)\n",
        "titanic.drop(columns=['Title'], inplace=True)\n",
        "print(titanic.head())\n",
        "\n",
        "# Encode the categorical feature using One-Hot Encoding (optional for ML models)\n",
        "titanic = pd.get_dummies(titanic, columns=['Title_Group'],  dtype=int)"
      ],
      "metadata": {
        "colab": {
          "base_uri": "https://localhost:8080/"
        },
        "id": "C3zIgooA8wWc",
        "outputId": "547591ec-f195-4a39-cee3-51fc4f9f316f"
      },
      "execution_count": 11,
      "outputs": [
        {
          "output_type": "stream",
          "name": "stdout",
          "text": [
            "   PassengerId  Survived  Pclass  \\\n",
            "0            1         0       3   \n",
            "1            2         1       1   \n",
            "2            3         1       3   \n",
            "3            4         1       1   \n",
            "4            5         0       3   \n",
            "\n",
            "                                                Name     Sex       Age  SibSp  \\\n",
            "0                            Braund, Mr. Owen Harris    male  0.271174      1   \n",
            "1  Cumings, Mrs. John Bradley (Florence Briggs Th...  female  0.472229      1   \n",
            "2                             Heikkinen, Miss. Laina  female  0.321438      0   \n",
            "3       Futrelle, Mrs. Jacques Heath (Lily May Peel)  female  0.434531      1   \n",
            "4                           Allen, Mr. William Henry    male  0.434531      0   \n",
            "\n",
            "   Parch            Ticket      Fare Cabin Embarked Title_Group  \n",
            "0      0         A/5 21171  0.014151   NaN        S          Mr  \n",
            "1      0          PC 17599  0.139136   C85        C         Mrs  \n",
            "2      0  STON/O2. 3101282  0.015469   NaN        S        Miss  \n",
            "3      0            113803  0.103644  C123        S         Mrs  \n",
            "4      0            373450  0.015713   NaN        S          Mr  \n"
          ]
        }
      ]
    },
    {
      "cell_type": "code",
      "source": [
        "# Display the updated dataset with new feature\n",
        "print(titanic.head())\n",
        "print(titanic.shape)"
      ],
      "metadata": {
        "colab": {
          "base_uri": "https://localhost:8080/"
        },
        "id": "Yim0WMZz8y9M",
        "outputId": "75887000-e494-466d-ba75-bdc3c91192e3"
      },
      "execution_count": 12,
      "outputs": [
        {
          "output_type": "stream",
          "name": "stdout",
          "text": [
            "   PassengerId  Survived  Pclass  \\\n",
            "0            1         0       3   \n",
            "1            2         1       1   \n",
            "2            3         1       3   \n",
            "3            4         1       1   \n",
            "4            5         0       3   \n",
            "\n",
            "                                                Name     Sex       Age  SibSp  \\\n",
            "0                            Braund, Mr. Owen Harris    male  0.271174      1   \n",
            "1  Cumings, Mrs. John Bradley (Florence Briggs Th...  female  0.472229      1   \n",
            "2                             Heikkinen, Miss. Laina  female  0.321438      0   \n",
            "3       Futrelle, Mrs. Jacques Heath (Lily May Peel)  female  0.434531      1   \n",
            "4                           Allen, Mr. William Henry    male  0.434531      0   \n",
            "\n",
            "   Parch            Ticket      Fare Cabin Embarked  Title_Group_Master  \\\n",
            "0      0         A/5 21171  0.014151   NaN        S                   0   \n",
            "1      0          PC 17599  0.139136   C85        C                   0   \n",
            "2      0  STON/O2. 3101282  0.015469   NaN        S                   0   \n",
            "3      0            113803  0.103644  C123        S                   0   \n",
            "4      0            373450  0.015713   NaN        S                   0   \n",
            "\n",
            "   Title_Group_Miss  Title_Group_Mr  Title_Group_Mrs  Title_Group_Officer  \\\n",
            "0                 0               1                0                    0   \n",
            "1                 0               0                1                    0   \n",
            "2                 1               0                0                    0   \n",
            "3                 0               0                1                    0   \n",
            "4                 0               1                0                    0   \n",
            "\n",
            "   Title_Group_Royalty  \n",
            "0                    0  \n",
            "1                    0  \n",
            "2                    0  \n",
            "3                    0  \n",
            "4                    0  \n",
            "(891, 18)\n"
          ]
        }
      ]
    },
    {
      "cell_type": "markdown",
      "source": [
        "**Column Transformer**"
      ],
      "metadata": {
        "id": "FbORs_SNsdZL"
      }
    },
    {
      "cell_type": "code",
      "source": [
        "# Sample DataFrame\n",
        "data = pd.DataFrame({\n",
        "    'Age': [22, None, 24, 22, None, 24],\n",
        "    'Sex': ['male', 'female', 'female','male', 'female', 'female'],\n",
        "    'Embarked': ['B', 'B', 'C', 'C', 'C','S'],\n",
        "    'Fare': [7.25, 71.83, 8.05,7.25, 71.83, 8.05]\n",
        "})\n",
        "\n",
        "print(\"Original DataFrame:\")\n",
        "print(data)\n",
        "\n",
        "# Define ColumnTransformer\n",
        "preprocessor = ColumnTransformer(transformers=[\n",
        "    ('age_imputer', SimpleImputer(strategy='mean'), ['Age']),\n",
        "    ('ohe', OneHotEncoder(), ['Sex','Embarked'])\n",
        "], remainder='passthrough')  # Pass through other columns like 'Fare'\n",
        "\n",
        "# Transform the data\n",
        "transformed_data = preprocessor.fit_transform(data)\n",
        "\n",
        "# Output shape and transformed data\n",
        "print(\"\\nTransformed Data Shape:\")\n",
        "print(transformed_data.shape)\n",
        "#print(type(transformed_data))\n",
        "\n",
        "\n",
        "transformed_df = pd.DataFrame(transformed_data)\n",
        "print(\"\\nTransformed DataFrame:\")\n",
        "print(transformed_df)"
      ],
      "metadata": {
        "colab": {
          "base_uri": "https://localhost:8080/"
        },
        "id": "hP0lcYPxBSnx",
        "outputId": "cde57722-077e-437e-bc45-a498c7cb3a82"
      },
      "execution_count": 13,
      "outputs": [
        {
          "output_type": "stream",
          "name": "stdout",
          "text": [
            "Original DataFrame:\n",
            "    Age     Sex Embarked   Fare\n",
            "0  22.0    male        B   7.25\n",
            "1   NaN  female        B  71.83\n",
            "2  24.0  female        C   8.05\n",
            "3  22.0    male        C   7.25\n",
            "4   NaN  female        C  71.83\n",
            "5  24.0  female        S   8.05\n",
            "\n",
            "Transformed Data Shape:\n",
            "(6, 7)\n",
            "\n",
            "Transformed DataFrame:\n",
            "      0    1    2    3    4    5      6\n",
            "0  22.0  0.0  1.0  1.0  0.0  0.0   7.25\n",
            "1  23.0  1.0  0.0  1.0  0.0  0.0  71.83\n",
            "2  24.0  1.0  0.0  0.0  1.0  0.0   8.05\n",
            "3  22.0  0.0  1.0  0.0  1.0  0.0   7.25\n",
            "4  23.0  1.0  0.0  0.0  1.0  0.0  71.83\n",
            "5  24.0  1.0  0.0  0.0  0.0  1.0   8.05\n"
          ]
        }
      ]
    },
    {
      "cell_type": "markdown",
      "source": [
        "**Function Transfomer**"
      ],
      "metadata": {
        "id": "na1w-sVcsBQK"
      }
    },
    {
      "cell_type": "code",
      "source": [
        "# Sample DataFrame\n",
        "data = pd.DataFrame({\n",
        "    'Age': [22, None, 24,22, None, 24],\n",
        "    'Sex': ['male', 'female', 'female','male', 'female', 'female'],\n",
        "    'Embarked': ['B', 'B', 'C', None, 'C','S'],\n",
        "    'Fare': [7.25, 71.83, 8.05,7.25, 71.83, 8.05]\n",
        "})\n",
        "\n",
        "print(\"Original DataFrame:\")\n",
        "print(data)\n",
        "\n",
        "# Custom function to impute 'Embarked'\n",
        "def impute_embarked(X):\n",
        "    X['Embarked'] = X['Embarked'].fillna(X['Embarked'].mode()[0])  # Fill missing values\n",
        "    print(X['Embarked'])\n",
        "    return X\n",
        "\n",
        "# Define ColumnTransformer\n",
        "preprocessor = ColumnTransformer(transformers=[\n",
        "    ('age_imputer', SimpleImputer(strategy='mean'), ['Age']),\n",
        "    ('embarked_imputer', FunctionTransformer(impute_embarked), ['Embarked']),\n",
        "    ('ohe', OneHotEncoder(), ['Sex','Embarked'])\n",
        "], remainder='passthrough')  # Pass through other columns like 'Fare'\n",
        "\n",
        "# Transform the data\n",
        "transformed_data = preprocessor.fit_transform(data)\n",
        "\n",
        "# Output shape and transformed data\n",
        "print(\"\\nTransformed Data Shape:\")\n",
        "print(transformed_data.shape)\n",
        "print(transformed_data)\n",
        "\n",
        "\n",
        "transformed_df = pd.DataFrame(transformed_data)\n",
        "print(\"\\nTransformed DataFrame:\")\n",
        "print(transformed_df)\n"
      ],
      "metadata": {
        "colab": {
          "base_uri": "https://localhost:8080/"
        },
        "id": "vcNKBPaJmV2D",
        "outputId": "7d178c5c-a39e-4382-c60f-c618267e9248"
      },
      "execution_count": 14,
      "outputs": [
        {
          "output_type": "stream",
          "name": "stdout",
          "text": [
            "Original DataFrame:\n",
            "    Age     Sex Embarked   Fare\n",
            "0  22.0    male        B   7.25\n",
            "1   NaN  female        B  71.83\n",
            "2  24.0  female        C   8.05\n",
            "3  22.0    male     None   7.25\n",
            "4   NaN  female        C  71.83\n",
            "5  24.0  female        S   8.05\n",
            "0    B\n",
            "1    B\n",
            "2    C\n",
            "3    B\n",
            "4    C\n",
            "5    S\n",
            "Name: Embarked, dtype: object\n",
            "\n",
            "Transformed Data Shape:\n",
            "(6, 9)\n",
            "[[22.0 'B' 0.0 1.0 1.0 0.0 0.0 0.0 7.25]\n",
            " [23.0 'B' 1.0 0.0 1.0 0.0 0.0 0.0 71.83]\n",
            " [24.0 'C' 1.0 0.0 0.0 1.0 0.0 0.0 8.05]\n",
            " [22.0 'B' 0.0 1.0 0.0 0.0 0.0 1.0 7.25]\n",
            " [23.0 'C' 1.0 0.0 0.0 1.0 0.0 0.0 71.83]\n",
            " [24.0 'S' 1.0 0.0 0.0 0.0 1.0 0.0 8.05]]\n",
            "\n",
            "Transformed DataFrame:\n",
            "      0  1    2    3    4    5    6    7      8\n",
            "0  22.0  B  0.0  1.0  1.0  0.0  0.0  0.0   7.25\n",
            "1  23.0  B  1.0  0.0  1.0  0.0  0.0  0.0  71.83\n",
            "2  24.0  C  1.0  0.0  0.0  1.0  0.0  0.0   8.05\n",
            "3  22.0  B  0.0  1.0  0.0  0.0  0.0  1.0   7.25\n",
            "4  23.0  C  1.0  0.0  0.0  1.0  0.0  0.0  71.83\n",
            "5  24.0  S  1.0  0.0  0.0  0.0  1.0  0.0   8.05\n"
          ]
        }
      ]
    },
    {
      "cell_type": "markdown",
      "source": [
        "**Sklean Pipeline**"
      ],
      "metadata": {
        "id": "FduUyuJ7r7Ps"
      }
    },
    {
      "cell_type": "code",
      "source": [
        "# Sample DataFrame\n",
        "data = pd.DataFrame({\n",
        "    'Age': [22, None, 24,22, None, 24],\n",
        "    'Sex': ['male', 'female', 'female','male', 'female', 'female'],\n",
        "    'Embarked': ['B', 'B', 'C', None, 'C','S'],\n",
        "    'Fare': [7.25, 71.83, 8.05,7.25, 71.83, 8.05]\n",
        "})\n",
        "\n",
        "print(\"Original DataFrame:\")\n",
        "print(data)\n",
        "\n",
        "# Custom function to impute 'Embarked'\n",
        "def impute_embarked(X):\n",
        "    X['Embarked'] = X['Embarked'].fillna(X['Embarked'].mode()[0])  # Fill missing values\n",
        "    print (X['Embarked'])\n",
        "    return X\n",
        "\n",
        "preprocessor = ColumnTransformer(transformers=[\n",
        "    ('age_imputer', SimpleImputer(strategy='mean'), ['Age']),\n",
        "    ('embarked_encoder', Pipeline(steps=[\n",
        "        ('imputer', FunctionTransformer(impute_embarked)),  # Impute Embarked first\n",
        "        ('onehot', OneHotEncoder())  # Then apply OneHotEncoder\n",
        "    ]), ['Embarked']),\n",
        "    ('ohe', OneHotEncoder(), ['Sex'])\n",
        "], remainder='passthrough')  # Pass through other columns like 'Fare'\n",
        "\n",
        "\n",
        "# Transform the data\n",
        "transformed_data = preprocessor.fit_transform(data)\n",
        "\n",
        "# Output shape and transformed data\n",
        "print(\"\\nTransformed Data Shape:\")\n",
        "print(transformed_data.shape)\n",
        "print(transformed_data)\n",
        "\n",
        "transformed_df = pd.DataFrame(transformed_data)\n",
        "print(\"\\nTransformed DataFrame:\")\n",
        "print(transformed_df)\n"
      ],
      "metadata": {
        "colab": {
          "base_uri": "https://localhost:8080/"
        },
        "id": "dPRNoA9DWCRV",
        "outputId": "57f0d7d9-c870-4e1b-9e6a-ad03666e428a"
      },
      "execution_count": 15,
      "outputs": [
        {
          "output_type": "stream",
          "name": "stdout",
          "text": [
            "Original DataFrame:\n",
            "    Age     Sex Embarked   Fare\n",
            "0  22.0    male        B   7.25\n",
            "1   NaN  female        B  71.83\n",
            "2  24.0  female        C   8.05\n",
            "3  22.0    male     None   7.25\n",
            "4   NaN  female        C  71.83\n",
            "5  24.0  female        S   8.05\n",
            "0    B\n",
            "1    B\n",
            "2    C\n",
            "3    B\n",
            "4    C\n",
            "5    S\n",
            "Name: Embarked, dtype: object\n",
            "\n",
            "Transformed Data Shape:\n",
            "(6, 7)\n",
            "[[22.    1.    0.    0.    0.    1.    7.25]\n",
            " [23.    1.    0.    0.    1.    0.   71.83]\n",
            " [24.    0.    1.    0.    1.    0.    8.05]\n",
            " [22.    1.    0.    0.    0.    1.    7.25]\n",
            " [23.    0.    1.    0.    1.    0.   71.83]\n",
            " [24.    0.    0.    1.    1.    0.    8.05]]\n",
            "\n",
            "Transformed DataFrame:\n",
            "      0    1    2    3    4    5      6\n",
            "0  22.0  1.0  0.0  0.0  0.0  1.0   7.25\n",
            "1  23.0  1.0  0.0  0.0  1.0  0.0  71.83\n",
            "2  24.0  0.0  1.0  0.0  1.0  0.0   8.05\n",
            "3  22.0  1.0  0.0  0.0  0.0  1.0   7.25\n",
            "4  23.0  0.0  1.0  0.0  1.0  0.0  71.83\n",
            "5  24.0  0.0  0.0  1.0  1.0  0.0   8.05\n"
          ]
        }
      ]
    },
    {
      "cell_type": "markdown",
      "source": [
        "# Lab Task\n",
        "\n",
        "**Apply Feature Creation preprocessing step on the Titanic dataset to create a Family Size feature which calculates Family Size for each Passenger using following Equation. FamilySize = SibSp + Parch + 1**\n",
        "\n",
        "**Apply ColumnTransformer, FunctionTransformer and Sklearn Pipeline on the Titanic dataset.**\n",
        "\n",
        "**Use ColumnTransformer, FunctionTransformer and Sklearn Pipeline features to preprocess the following dataset**\n",
        "\n",
        "https://www.kaggle.com/datasets/kamilpytlak/personal-key-indicators-of-heart-disease"
      ],
      "metadata": {
        "id": "Vu7nZz_DrFFY"
      }
    }
  ]
}